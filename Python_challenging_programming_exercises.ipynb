{
  "nbformat": 4,
  "nbformat_minor": 0,
  "metadata": {
    "colab": {
      "provenance": [],
      "authorship_tag": "ABX9TyPF/CzlXw2dt+kSIwFh2CrL"
    },
    "kernelspec": {
      "name": "python3",
      "display_name": "Python 3"
    },
    "language_info": {
      "name": "python"
    }
  },
  "cells": [
    {
      "cell_type": "markdown",
      "source": [
        "Question:\n",
        "Write a program which will find all such numbers which are divisible by 7 but are not a multiple of 5,\n",
        "between 2000 and 3200 (both included).\n",
        "\n",
        "The numbers obtained should be printed in a comma-separated sequence on a single line.\n"
      ],
      "metadata": {
        "id": "gqhUhF337BJ3"
      }
    },
    {
      "cell_type": "code",
      "source": [
        "l=[]\n",
        "\n",
        "for i in range(2000, 3201):\n",
        "  if (i%7 == 0) and (i%5 != 0):\n",
        "    l.append(str(i))\n",
        "\n",
        "print(','.join(l))"
      ],
      "metadata": {
        "colab": {
          "base_uri": "https://localhost:8080/"
        },
        "id": "NFo7wdmd7EGP",
        "outputId": "ae00ffc2-2443-4e59-bfda-164433258a03"
      },
      "execution_count": null,
      "outputs": [
        {
          "output_type": "stream",
          "name": "stdout",
          "text": [
            "2002,2009,2016,2023,2037,2044,2051,2058,2072,2079,2086,2093,2107,2114,2121,2128,2142,2149,2156,2163,2177,2184,2191,2198,2212,2219,2226,2233,2247,2254,2261,2268,2282,2289,2296,2303,2317,2324,2331,2338,2352,2359,2366,2373,2387,2394,2401,2408,2422,2429,2436,2443,2457,2464,2471,2478,2492,2499,2506,2513,2527,2534,2541,2548,2562,2569,2576,2583,2597,2604,2611,2618,2632,2639,2646,2653,2667,2674,2681,2688,2702,2709,2716,2723,2737,2744,2751,2758,2772,2779,2786,2793,2807,2814,2821,2828,2842,2849,2856,2863,2877,2884,2891,2898,2912,2919,2926,2933,2947,2954,2961,2968,2982,2989,2996,3003,3017,3024,3031,3038,3052,3059,3066,3073,3087,3094,3101,3108,3122,3129,3136,3143,3157,3164,3171,3178,3192,3199\n"
          ]
        }
      ]
    },
    {
      "cell_type": "markdown",
      "source": [
        "Question:\n",
        "Write a program which can compute the factorial of a given numbers.\n",
        "The results should be printed in a comma-separated sequence on a single line.\n",
        "\n",
        "Suppose the following input is supplied to the program:\n",
        "8\n",
        "then, the output should be:\n",
        "40320\n"
      ],
      "metadata": {
        "id": "NtTdqLM78n5R"
      }
    },
    {
      "cell_type": "code",
      "source": [
        "def fact(x):\n",
        "  if x==0:\n",
        "    return 1\n",
        "  return x*fact(x-1)\n",
        "\n",
        "x = int(3)\n",
        "print(fact(x))"
      ],
      "metadata": {
        "colab": {
          "base_uri": "https://localhost:8080/"
        },
        "id": "nYC6w7ql8Lvd",
        "outputId": "75e7b1f5-8ffb-40c1-c4b3-ca0415f05eb0"
      },
      "execution_count": null,
      "outputs": [
        {
          "output_type": "stream",
          "name": "stdout",
          "text": [
            "6\n"
          ]
        }
      ]
    },
    {
      "cell_type": "markdown",
      "source": [
        "Question:\n",
        "\n",
        "With a given integral number n, write a program to generate a dictionary that contains (i, i*i) such that is an integral number between 1 and n (both included) and then the program should print the dictionary.\n",
        "\n",
        "Suppose the following input is supplied to the program:\n",
        "8\n",
        "\n",
        "Then, the output should be:\n",
        "{1: 1, 2: 4, 3: 9, 4: 16, 5: 25, 6: 36, 7: 49, 8: 64}"
      ],
      "metadata": {
        "id": "DriDUiUd_JO9"
      }
    },
    {
      "cell_type": "code",
      "source": [
        "n=int(4)\n",
        "d=dict()\n",
        "for i in range(1,n+1):\n",
        "  d[i]=i*i\n",
        "\n",
        "print(d)"
      ],
      "metadata": {
        "colab": {
          "base_uri": "https://localhost:8080/"
        },
        "id": "kVGEVJBp9TxY",
        "outputId": "0910d8ad-9345-4fce-ad73-dfcf9e459f3b"
      },
      "execution_count": null,
      "outputs": [
        {
          "output_type": "stream",
          "name": "stdout",
          "text": [
            "{1: 1, 2: 4, 3: 9, 4: 16}\n"
          ]
        }
      ]
    },
    {
      "cell_type": "markdown",
      "source": [
        "🙋‍♂️ :\n",
        "Write a program that calculates and prints the value according to the given formula:\n",
        "\n",
        "Q = Square root of **[(2 * C * D)/H]**\n",
        "Following are the fixed values of C and H:\n",
        "\n",
        "C is 50. H is 30.\n",
        "\n",
        "D is the variable whose values should be input to your program in a comma-separated sequence.\n",
        "\n",
        "Example\n",
        "Let us assume the following comma separated input sequence is given to the program:\n",
        "\n",
        "100,150,180\n",
        "\n",
        "The output of the program should be:\n",
        "18,22,24"
      ],
      "metadata": {
        "id": "zk54hf3_SZ2X"
      }
    },
    {
      "cell_type": "code",
      "source": [
        "import math\n",
        "c=50\n",
        "h=30\n",
        "value = []\n",
        "items = [x for x in input().split(',')]\n",
        "# for d in items:\n",
        "#   vlaue.append(str(int(round(math.sqrt()))))\n",
        "\n",
        "for d in items:\n",
        "    value.append(str(int(round(math.sqrt(2*c*float(d)/h)))))\n",
        "\n",
        "print(','.join(value))"
      ],
      "metadata": {
        "colab": {
          "base_uri": "https://localhost:8080/"
        },
        "id": "jozw78tcNKGf",
        "outputId": "fc4c4e2c-9db5-49c3-d50a-012f4567b067"
      },
      "execution_count": null,
      "outputs": [
        {
          "output_type": "stream",
          "name": "stdout",
          "text": [
            "100, 150, 180\n",
            "18,22,24\n"
          ]
        }
      ]
    },
    {
      "cell_type": "code",
      "source": [
        "import math\n",
        "c=1\n",
        "h=2\n",
        "value=[]\n",
        "items = [x for x in input().split(',')]\n",
        "\n",
        "for d in items:\n",
        "  value.append(str(int(round(math.sqrt(float(d))))))\n",
        "\n",
        "print(','.join(value))"
      ],
      "metadata": {
        "colab": {
          "base_uri": "https://localhost:8080/"
        },
        "id": "HDEuNpdr8gaB",
        "outputId": "b95cc3fe-11c4-45ab-f80d-0a1036ae405b"
      },
      "execution_count": null,
      "outputs": [
        {
          "output_type": "stream",
          "name": "stdout",
          "text": [
            "25,36\n",
            "5,6\n"
          ]
        }
      ]
    },
    {
      "cell_type": "markdown",
      "source": [
        "🙋‍♂️ :\n",
        "Write a program which takes 2 digits, X,Y as input and generates a 2-dimensional array. The element value in the i-th row and j-th column of the array should be i*j.\n",
        "Note: i=0,1.., X-1; j=0,1,¡­Y-1.\n",
        "Example\n",
        "Suppose the following inputs are given to the program:\n",
        "3,5\n",
        "Then, the output of the program should be:\n",
        "[[0, 0, 0, 0, 0], [0, 1, 2, 3, 4], [0, 2, 4, 6, 8]] \n"
      ],
      "metadata": {
        "id": "lAir04cNjHsw"
      }
    },
    {
      "cell_type": "code",
      "source": [],
      "metadata": {
        "id": "ukdkCE6U-dVS"
      },
      "execution_count": null,
      "outputs": []
    }
  ]
}